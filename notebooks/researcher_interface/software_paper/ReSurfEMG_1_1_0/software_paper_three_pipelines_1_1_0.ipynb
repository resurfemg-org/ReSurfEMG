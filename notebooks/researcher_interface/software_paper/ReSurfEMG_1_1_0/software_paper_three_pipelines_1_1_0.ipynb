{
 "cells": [
  {
   "cell_type": "markdown",
   "metadata": {},
   "source": [
    "# ReSurfEMG: a Python package for comprehensive analysis of respiratory surface EMG"
   ]
  },
  {
   "cell_type": "markdown",
   "metadata": {},
   "source": [
    "\n",
    "### Note\n",
    "This notebook is adapted to run on ReSurfEMG 1.1.0 to improve forward compatability and re-use. As compared to ReSurfEMG 1.0.2, with which the analysis for the paper was conducted, this mainly includes refactoring of methods and no signal analytical adapations:\n",
    "- Signal indexing: TimeSeries.y_raw -->   TimeSeries['raw]\n",
    "- Convert signal_type to signal_io arguments: signal_type='raw' -->   signal_io=('raw', 'filt')\n",
    "- Split gating and wavelet_denoising in ECG peak detection (.get_ecg_peaks) and ECG removal (.gating, .wavelet_denoising)"
   ]
  },
  {
   "cell_type": "markdown",
   "metadata": {},
   "source": [
    "# 1. Import the required libraries"
   ]
  },
  {
   "cell_type": "code",
   "execution_count": null,
   "metadata": {},
   "outputs": [],
   "source": [
    "# Standard code libraries\n",
    "import os\n",
    "import numpy as np\n",
    "import pandas as pd\n",
    "import matplotlib.pyplot as plt\n",
    "\n",
    "# Custom code libraries from ReSurfEMG\n",
    "from resurfemg.data_connector.config import Config\n",
    "from resurfemg.data_connector import file_discovery\n",
    "from resurfemg.pipelines import ipy_widgets\n",
    "from resurfemg.data_connector.tmsisdk_lite import Poly5Reader\n",
    "from resurfemg.data_connector.data_classes import (\n",
    "VentilatorDataGroup, EmgDataGroup)\n",
    "from resurfemg.postprocessing import features as feat\n",
    "\n",
    "config = Config()\n",
    "%matplotlib widget"
   ]
  },
  {
   "cell_type": "code",
   "execution_count": null,
   "metadata": {},
   "outputs": [],
   "source": [
    "output_dir = os.path.join(config.get_directory('output_data'), 'software_paper')\n",
    "if not os.path.exists(output_dir):\n",
    "    os.makedirs(output_dir)\n",
    "plt.rcParams['svg.fonttype'] = 'none'\n"
   ]
  },
  {
   "cell_type": "markdown",
   "metadata": {},
   "source": [
    "## 2. Load the ventilator and sEMG data"
   ]
  },
  {
   "cell_type": "code",
   "execution_count": null,
   "metadata": {},
   "outputs": [],
   "source": [
    "# Identify all recordings available for the selected patient/measurement_date\n",
    "\n",
    "# First find the patients\n",
    "base_path = config.get_directory('patient_data')\n",
    "patient_paths = file_discovery.find_folders(\n",
    "    base_path,\n",
    "    folder_levels=['patient'])\n",
    "patient = list(patient_paths['patient'].values)[0]\n",
    "\n",
    "# Then find the files for the selected patients:\n",
    "folder_levels = ['date', 'measurement']\n",
    "patient_path = os.path.join(base_path, patient)\n",
    "\n",
    "emg_files = file_discovery.find_files(\n",
    "    base_path=patient_path,\n",
    "    file_name_regex='EMG_recording',\n",
    "    extension_regex='poly5',\n",
    "    folder_levels=folder_levels)\n",
    "\n",
    "folder_levels = ['date', 'measurement']\n",
    "vent_files = file_discovery.find_files(\n",
    "    base_path=patient_path,\n",
    "    file_name_regex='Draeger_recording',\n",
    "    extension_regex='poly5',\n",
    "    folder_levels=folder_levels)\n",
    "\n",
    "button_list = ipy_widgets.file_select(\n",
    "    emg_files,\n",
    "    folder_levels=folder_levels[:-1],\n",
    "    default_value_select=[None, '006'],\n",
    "    default_idx_select=[0, 6])"
   ]
  },
  {
   "cell_type": "code",
   "execution_count": null,
   "metadata": {},
   "outputs": [],
   "source": [
    "emg_file_chosen = os.path.join(\n",
    "    patient_path, *[btn.value for btn in button_list], 'EMG_recording.Poly5')\n",
    "vent_file_chosen = os.path.join(\n",
    "    patient_path, *[btn.value for btn in button_list], 'Draeger_recording.Poly5')\n",
    "\n",
    "print(\"The chosen files are:\\n\", emg_file_chosen, '\\n', vent_file_chosen)"
   ]
  },
  {
   "cell_type": "code",
   "execution_count": null,
   "metadata": {},
   "outputs": [],
   "source": [
    "# Load the EMG and ventilator data recordings from the selected folders.\n",
    "data_emg = Poly5Reader(emg_file_chosen)\n",
    "data_vent = Poly5Reader(vent_file_chosen)\n",
    "data_emg_samples = data_emg.samples[:data_emg.num_samples]\n",
    "fs_emg = data_emg.sample_rate\n",
    "data_vent_samples = data_vent.samples[:data_vent.num_samples]\n",
    "fs_vent = data_vent.sample_rate\n",
    "\n",
    "# Define the time series of the EMG and ventilator recordings\n",
    "y_emg = data_emg_samples[:, fs_emg:]\n",
    "y_vent = data_vent_samples[:, fs_vent:]\n",
    "\n",
    "# Define the time axes\n",
    "t_emg = [i/fs_emg for i in range(len(y_emg[0, :]))]\n",
    "t_vent = [i/fs_vent for i in range(len(y_vent[0, :]))]"
   ]
  },
  {
   "cell_type": "code",
   "execution_count": null,
   "metadata": {},
   "outputs": [],
   "source": [
    "# Store the EMG data in a group of TimeSeries objects\n",
    "emg_timeseries = EmgDataGroup(\n",
    "    y_emg,\n",
    "    fs=fs_emg,\n",
    "    labels=['ECG', 'EMGdi', 'EMGpara'],\n",
    "    units=3*['uV'])\n",
    "\n",
    "# Store the ventilator data in a group of TimeSeries objects\n",
    "vent_timeseries = VentilatorDataGroup(\n",
    "    y_vent,\n",
    "    fs=fs_vent,\n",
    "    labels=['Paw', 'F', 'Vvent'],\n",
    "    units=['cmH2O', 'L/s', 'L'])\n"
   ]
  },
  {
   "cell_type": "code",
   "execution_count": null,
   "metadata": {},
   "outputs": [],
   "source": [
    "x_lim = 8.0\n",
    "y_lim = 10.0"
   ]
  },
  {
   "cell_type": "code",
   "execution_count": null,
   "metadata": {},
   "outputs": [],
   "source": [
    "vent_timeseries[0].baseline(\n",
    "    signal_io=('raw', 'baseline'),\n",
    ")\n",
    "\n",
    "# Find tidal volume peaks\n",
    "p_vent = vent_timeseries[vent_timeseries.p_vent_idx]\n",
    "v_vent = vent_timeseries[vent_timeseries.v_vent_idx]\n",
    "vent_timeseries.find_tidal_volume_peaks(\n",
    "    start_idx=0,\n",
    "    overwrite=True\n",
    ")\n",
    "p_vent.peaks['ventilator_breaths'].detect_on_offset(\n",
    "    baseline=p_vent['baseline'])\n",
    "v_vent.peaks['ventilator_breaths'].detect_on_offset(\n",
    "    baseline=v_vent['baseline'])"
   ]
  },
  {
   "cell_type": "markdown",
   "metadata": {},
   "source": [
    "# 3a. Under-smoothed"
   ]
  },
  {
   "cell_type": "code",
   "execution_count": null,
   "metadata": {},
   "outputs": [],
   "source": [
    "emg_timeseries_under = EmgDataGroup(\n",
    "    y_emg,\n",
    "    fs=fs_emg,\n",
    "    labels=['ECG', 'EMGdi', 'EMGpara'],\n",
    "    units=3*['uV'])\n",
    "\n",
    "emg_timeseries_under.run(\n",
    "    'filter_emg',\n",
    "    order=1,\n",
    "    hp_cf=15,\n",
    "    lp_cf=1000,\n",
    ")\n",
    "emg_timeseries_under.run('get_ecg_peaks', overwrite=True)\n",
    "emg_timeseries_under.run(\n",
    "    'gating',\n",
    "    fill_method=3,\n",
    "    gate_width_samples=(150 *  fs_emg) // 1000\n",
    ")\n",
    "emg_timeseries_under.run(\n",
    "    'envelope',\n",
    "    env_type='rms',\n",
    "    env_window=(100 * fs_emg) // 1000,\n",
    "    ci_alpha=0.05,\n",
    ")\n",
    "emg_timeseries_under.run(\n",
    "    'baseline',\n",
    "    percentile=20,\n",
    "    window_s=int(7.5 * fs_emg)\n",
    ")\n",
    "emg_di_under = emg_timeseries_under.channels[1]\n",
    "emg_di_under.detect_emg_breaths(\n",
    "    peak_set_name='breaths',\n",
    "    start_idx=0,\n",
    "    min_peak_width_s=fs_emg//10,\n",
    "    prominence_factor=0.5,\n",
    "    overwrite=True\n",
    ")\n",
    "emg_di_under.peaks['breaths'].detect_on_offset(\n",
    "    baseline=emg_di_under['baseline']\n",
    ")\n",
    "sEAdi_amplitudes = feat.amplitude(\n",
    "    signal=emg_di_under['env'],\n",
    "    peak_idxs=emg_di_under.peaks['breaths']['peak_idx'],\n",
    "    baseline=emg_di_under['baseline'],\n",
    ")\n",
    "sEAdi_ttp_fs, _ = feat.time_to_peak(\n",
    "    emg_env=emg_di_under['env'],\n",
    "    start_idxs=emg_di_under.peaks['breaths']['start_idx'],\n",
    "    end_idxs=emg_di_under.peaks['breaths']['end_idx'],\n",
    ")\n",
    "sEAdi_ttp = sEAdi_ttp_fs / emg_di_under.param['fs']\n",
    "\n",
    "sEAdi_pseudo_slope_fs = feat.pseudo_slope(\n",
    "    emg_env=emg_di_under['env'],\n",
    "    start_idxs=emg_di_under.peaks['breaths']['start_idx'],\n",
    "    end_idxs=emg_di_under.peaks['breaths']['end_idx'],\n",
    "    smoothing=False\n",
    ")\n",
    "sEAdi_pseudo_slope = sEAdi_pseudo_slope_fs * emg_di_under.param['fs']\n",
    "\n",
    "emg_di_under.peaks['breaths'].peak_df['amplitude'] = sEAdi_amplitudes\n",
    "emg_di_under.peaks['breaths'].peak_df['time_to_peak'] = sEAdi_ttp\n",
    "emg_di_under.peaks['breaths'].peak_df['pseudo_slope'] = sEAdi_pseudo_slope\n",
    "\n",
    "# emg_di_under.peaks['breaths'].peak_df\n",
    "len(emg_di_under.peaks['breaths'].peak_df)"
   ]
  },
  {
   "cell_type": "markdown",
   "metadata": {},
   "source": [
    "# 3b. Default settings"
   ]
  },
  {
   "cell_type": "code",
   "execution_count": null,
   "metadata": {},
   "outputs": [],
   "source": [
    "emg_timeseries_good = EmgDataGroup(\n",
    "    y_emg,\n",
    "    fs=fs_emg,\n",
    "    labels=['ECG', 'EMGdi', 'EMGpara'],\n",
    "    units=3*['uV'])\n",
    "\n",
    "emg_timeseries_good.run(\n",
    "    'filter_emg',\n",
    "    order=3,\n",
    "    hp_cf=20,\n",
    "    lp_cf=500,\n",
    ")\n",
    "\n",
    "emg_timeseries_good.run('get_ecg_peaks', overwrite=True)\n",
    "emg_timeseries_good.run(\n",
    "    'gating',\n",
    "    fill_method=3,\n",
    "    gate_width_samples=(200 *  fs_emg) // 1000\n",
    ")\n",
    "emg_timeseries_good.run(\n",
    "    'envelope',\n",
    "    env_type='rms',\n",
    "    env_window=(250 * fs_emg) // 1000,\n",
    "    ci_alpha=0.05,\n",
    ")\n",
    "emg_timeseries_good.run(\n",
    "    'baseline',\n",
    "    percentile=33,\n",
    "    window_s=int(7.5 * fs_emg)\n",
    ")\n",
    "emg_di_good = emg_timeseries_good[1]\n",
    "emg_di_good.detect_emg_breaths(\n",
    "    peak_set_name='breaths',\n",
    "    start_idx=0,\n",
    "    min_peak_width_s=fs_emg//4,\n",
    "    prominence_factor=1.0,\n",
    ")\n",
    "emg_di_good.peaks['breaths'].detect_on_offset(\n",
    "    baseline=emg_di_good['baseline']\n",
    ")\n",
    "\n",
    "sEAdi_amplitudes = feat.amplitude(\n",
    "    signal=emg_di_good['env'],\n",
    "    peak_idxs=emg_di_good.peaks['breaths']['peak_idx'],\n",
    "    baseline=emg_di_good['baseline'],\n",
    ")\n",
    "sEAdi_ttp_fs, _ = feat.time_to_peak(\n",
    "    emg_env=emg_di_good['env'],\n",
    "    start_idxs=emg_di_good.peaks['breaths']['start_idx'],\n",
    "    end_idxs=emg_di_good.peaks['breaths']['end_idx'],\n",
    ")\n",
    "sEAdi_ttp = sEAdi_ttp_fs / emg_di_good.param['fs']\n",
    "\n",
    "sEAdi_pseudo_slope_fs = feat.pseudo_slope(\n",
    "    emg_env=emg_di_good['env'],\n",
    "    start_idxs=emg_di_good.peaks['breaths']['start_idx'],\n",
    "    end_idxs=emg_di_good.peaks['breaths']['end_idx'],\n",
    "    smoothing=False\n",
    ")\n",
    "sEAdi_pseudo_slope = sEAdi_pseudo_slope_fs * emg_di_good.param['fs']\n",
    "\n",
    "emg_di_good.peaks['breaths'].peak_df['amplitude'] = sEAdi_amplitudes\n",
    "emg_di_good.peaks['breaths'].peak_df['time_to_peak'] = sEAdi_ttp\n",
    "emg_di_good.peaks['breaths'].peak_df['pseudo_slope'] = sEAdi_pseudo_slope\n",
    "\n",
    "len(emg_di_good.peaks['breaths'].peak_df)"
   ]
  },
  {
   "cell_type": "markdown",
   "metadata": {},
   "source": [
    "# 3c. Over-smoothed"
   ]
  },
  {
   "cell_type": "code",
   "execution_count": null,
   "metadata": {},
   "outputs": [],
   "source": [
    "emg_timeseries_over = EmgDataGroup(\n",
    "    y_emg,\n",
    "    fs=fs_emg,\n",
    "    labels=['ECG', 'EMGdi', 'EMGpara'],\n",
    "    units=3*['uV'])\n",
    "\n",
    "emg_timeseries_over.run(\n",
    "    'filter_emg',\n",
    "    order=3,\n",
    "    hp_cf=30,\n",
    "    lp_cf=500,\n",
    ")\n",
    "emg_timeseries_over.run('get_ecg_peaks', overwrite=True)\n",
    "emg_timeseries_over.run(\n",
    "    'gating',\n",
    "    fill_method=3,\n",
    "    gate_width_samples=(300 *  fs_emg) // 1000,\n",
    ")\n",
    "emg_timeseries_over.run(\n",
    "    'envelope',\n",
    "    env_type='rms',\n",
    "    env_window=(500 * fs_emg) // 1000,\n",
    "    ci_alpha=0.05,\n",
    ")\n",
    "emg_timeseries_over.run(\n",
    "    'baseline',\n",
    "    percentile=33,\n",
    "    window_s=int(7.5 * fs_emg)\n",
    ")\n",
    "emg_di_over = emg_timeseries_over[1]\n",
    "emg_di_over.detect_emg_breaths(\n",
    "    peak_set_name='breaths',\n",
    "    start_idx=0,\n",
    "    min_peak_width_s=fs_emg//4,\n",
    "    prominence_factor=0.25,\n",
    ")\n",
    "emg_di_over.peaks['breaths'].detect_on_offset(\n",
    "    baseline=emg_di_over['baseline']\n",
    ")\n",
    "\n",
    "sEAdi_amplitudes = feat.amplitude(\n",
    "    signal=emg_di_over['env'],\n",
    "    peak_idxs=emg_di_over.peaks['breaths']['peak_idx'],\n",
    "    baseline=emg_di_over['baseline'],\n",
    ")\n",
    "sEAdi_ttp_fs, _ = feat.time_to_peak(\n",
    "    emg_env=emg_di_over['env'],\n",
    "    start_idxs=emg_di_over.peaks['breaths']['start_idx'],\n",
    "    end_idxs=emg_di_over.peaks['breaths']['end_idx'],\n",
    ")\n",
    "sEAdi_ttp = sEAdi_ttp_fs / emg_di_over.param['fs']\n",
    "\n",
    "sEAdi_pseudo_slope_fs = feat.pseudo_slope(\n",
    "    emg_env=emg_di_over['env'],\n",
    "    start_idxs=emg_di_over.peaks['breaths']['start_idx'],\n",
    "    end_idxs=emg_di_over.peaks['breaths']['end_idx'],\n",
    "    smoothing=False\n",
    ")\n",
    "sEAdi_pseudo_slope = sEAdi_pseudo_slope_fs * emg_di_over.param['fs']\n",
    "\n",
    "emg_di_over.peaks['breaths'].peak_df['amplitude'] = sEAdi_amplitudes\n",
    "emg_di_over.peaks['breaths'].peak_df['time_to_peak'] = sEAdi_ttp\n",
    "emg_di_over.peaks['breaths'].peak_df['pseudo_slope'] = sEAdi_pseudo_slope\n",
    "\n",
    "\n",
    "len(emg_di_over.peaks['breaths'].peak_df)"
   ]
  },
  {
   "cell_type": "markdown",
   "metadata": {},
   "source": [
    "# 4. Calculate features"
   ]
  },
  {
   "cell_type": "code",
   "execution_count": null,
   "metadata": {},
   "outputs": [],
   "source": [
    "# Calculate ETPdi & Test EMG quality\n",
    "parameter_names = {\n",
    "    'time_product': 'ETPdi'\n",
    "}\n",
    "# Under-filtered pipeline\n",
    "emg_di_under.calculate_time_products(\n",
    "    peak_set_name='breaths', parameter_name='ETPdi')\n",
    "emg_di_under.calculate_time_products(\n",
    "    peak_set_name='breaths', include_aub=False, parameter_name='ETPdi-aub')\n",
    "emg_di_under.test_emg_quality(\n",
    "    peak_set_name='breaths', parameter_names=parameter_names, verbose=False)\n",
    "\n",
    "\n",
    "# Good pipeline\n",
    "emg_di_good.calculate_time_products(\n",
    "    peak_set_name='breaths', parameter_name='ETPdi')\n",
    "emg_di_good.calculate_time_products(\n",
    "    peak_set_name='breaths', include_aub=False, parameter_name='ETPdi-aub')\n",
    "emg_di_good.test_emg_quality(\n",
    "    peak_set_name='breaths', parameter_names=parameter_names, verbose=False)\n",
    "\n",
    "# Over-filtered pipeline\n",
    "emg_di_over.calculate_time_products(\n",
    "    peak_set_name='breaths', parameter_name='ETPdi')\n",
    "emg_di_over.calculate_time_products(\n",
    "    peak_set_name='breaths', include_aub=False, parameter_name='ETPdi-aub')\n",
    "emg_di_over.test_emg_quality(\n",
    "    peak_set_name='breaths', parameter_names=parameter_names, verbose=False)\n",
    "\n"
   ]
  },
  {
   "cell_type": "code",
   "execution_count": null,
   "metadata": {},
   "outputs": [],
   "source": [
    "# Link the breaths to the ventilator breaths\n",
    "t_vent_breaths = \\\n",
    "    p_vent.peaks['ventilator_breaths']['peak_idx'] / p_vent.param['fs']\n",
    "t_vent_breaths = t_vent_breaths - 0.5\n",
    "\n",
    "emg_di_under.link_peak_set(\n",
    "    peak_set_name='breaths',\n",
    "    t_reference_peaks=t_vent_breaths,\n",
    "    linked_peak_set_name='linked_breaths',\n",
    ")\n",
    "emg_di_good.link_peak_set(\n",
    "    peak_set_name='breaths',\n",
    "    t_reference_peaks=t_vent_breaths,\n",
    "    linked_peak_set_name='linked_breaths',\n",
    ")\n",
    "emg_di_over.link_peak_set(\n",
    "    peak_set_name='breaths',\n",
    "    t_reference_peaks=t_vent_breaths,\n",
    "    linked_peak_set_name='linked_breaths',\n",
    ")"
   ]
  },
  {
   "cell_type": "markdown",
   "metadata": {},
   "source": [
    "# 4a. Full recording metrics"
   ]
  },
  {
   "cell_type": "code",
   "execution_count": null,
   "metadata": {},
   "outputs": [],
   "source": [
    "emg_di_under.peaks['linked_breaths'].peak_df['T_breath'] = (\n",
    "    (emg_di_under.peaks['linked_breaths'].peak_df['end_idx']\n",
    "     - (emg_di_under.peaks['linked_breaths'].peak_df['start_idx']))\n",
    "     / emg_di_under.param['fs'])\n",
    "\n",
    "under_output = pd.concat(\n",
    "    [emg_di_under.peaks['linked_breaths'].peak_df.loc[:, ['T_breath', 'time_to_peak', 'amplitude', 'ETPdi', 'pseudo_slope']],\n",
    "     emg_di_under.peaks['linked_breaths'].quality_values_df[['snr', 'aub', 'bell']]],\n",
    "    axis=1\n",
    ")\n",
    "under_output.describe()"
   ]
  },
  {
   "cell_type": "code",
   "execution_count": null,
   "metadata": {},
   "outputs": [],
   "source": [
    "emg_di_good.peaks['linked_breaths'].peak_df['T_breath'] = (\n",
    "    (emg_di_good.peaks['linked_breaths'].peak_df['end_idx']\n",
    "     - (emg_di_good.peaks['linked_breaths'].peak_df['start_idx']))\n",
    "     / emg_di_good.param['fs'])\n",
    "\n",
    "good_output = pd.concat(\n",
    "    [emg_di_good.peaks['linked_breaths'].peak_df.loc[:, ['T_breath', 'time_to_peak', 'amplitude', 'ETPdi', 'pseudo_slope']],\n",
    "     emg_di_good.peaks['linked_breaths'].quality_values_df[['snr', 'aub', 'bell']]],\n",
    "    axis=1\n",
    ")\n",
    "good_output.describe()"
   ]
  },
  {
   "cell_type": "code",
   "execution_count": null,
   "metadata": {},
   "outputs": [],
   "source": [
    "emg_di_over.peaks['linked_breaths'].peak_df['T_breath'] = (\n",
    "    (emg_di_over.peaks['linked_breaths'].peak_df['end_idx']\n",
    "     - (emg_di_over.peaks['linked_breaths'].peak_df['start_idx']))\n",
    "     / emg_di_over.param['fs'])\n",
    "\n",
    "over_output = pd.concat(\n",
    "    [emg_di_over.peaks['linked_breaths'].peak_df.loc[:, ['T_breath', 'time_to_peak', 'amplitude', 'ETPdi', 'pseudo_slope']],\n",
    "     emg_di_over.peaks['linked_breaths'].quality_values_df[['snr', 'aub', 'bell']]],\n",
    "    axis=1\n",
    ")\n",
    "over_output.describe()"
   ]
  },
  {
   "cell_type": "markdown",
   "metadata": {},
   "source": [
    "## 4b. Three peak features"
   ]
  },
  {
   "cell_type": "code",
   "execution_count": null,
   "metadata": {},
   "outputs": [],
   "source": [
    "under_output.loc[:2, :]"
   ]
  },
  {
   "cell_type": "code",
   "execution_count": null,
   "metadata": {},
   "outputs": [],
   "source": [
    "good_output.loc[:2, :]"
   ]
  },
  {
   "cell_type": "code",
   "execution_count": null,
   "metadata": {},
   "outputs": [],
   "source": [
    "over_output.loc[:2, :]"
   ]
  },
  {
   "cell_type": "markdown",
   "metadata": {},
   "source": [
    "# 5. Plot selected peaks"
   ]
  },
  {
   "cell_type": "code",
   "execution_count": null,
   "metadata": {},
   "outputs": [],
   "source": [
    "# Plot the identified Pocc peaks in p_vent and sEAdi\n",
    "fig, axis = plt.subplots(nrows=3, ncols=2, figsize=(10, 6), sharex=True)\n",
    "axes_emg = axis[:, 0]\n",
    "colors = ['tab:cyan', 'tab:orange', 'tab:red']\n",
    "emg_timeseries_under[1].plot_full(axes_emg[0], signal_io=('env',), colors=['tab:red', 'tab:orange'])\n",
    "emg_di_under.plot_markers(peak_set_name='linked_breaths', axes=axes_emg[0], colors=['k', 'k', 'k'])\n",
    "axes_emg[0].set_ylabel('sEAdi (uV)')\n",
    "axes_emg[0].set_ylim([0, y_lim])\n",
    "\n",
    "emg_timeseries_good[1].plot_full(axes_emg[1], signal_io=('env',), colors=['tab:green', 'tab:olive'])\n",
    "emg_di_good.plot_markers(peak_set_name='linked_breaths', axes=axes_emg[1], colors=['k', 'k', 'k'])\n",
    "axes_emg[1].set_ylabel('sEAdi (uV)')\n",
    "axes_emg[1].set_ylim([0, y_lim])\n",
    "\n",
    "emg_timeseries_over[1].plot_full(axes_emg[2], signal_io=('env',), colors=['tab:blue', 'tab:cyan'])\n",
    "emg_di_over.plot_markers(peak_set_name='linked_breaths', axes=axes_emg[2], colors=['k', 'k', 'k'])\n",
    "axes_emg[2].set_ylabel('sEAdi (uV)')\n",
    "axes_emg[2].set_ylim([0, y_lim])\n",
    "\n",
    "axes_emg[0].set_title('EMG data')\n",
    "axes_emg[-1].set_xlabel('t (s)')\n",
    "\n",
    "axes_vent = axis[:, 1]\n",
    "vent_timeseries.run('plot_full', axes=axes_vent)\n",
    "\n",
    "axes_vent[0].set_title('Ventilator data')\n",
    "axes_vent[-1].set_xlabel('t (s)')\n",
    "axes_vent[-1].set_xlim([0, x_lim])\n",
    "axes_emg[1].set_ylim([0, y_lim])"
   ]
  },
  {
   "cell_type": "code",
   "execution_count": null,
   "metadata": {},
   "outputs": [],
   "source": [
    "fig_path = os.path.join(output_dir, 'three_pipelines.svg')\n",
    "# fig.savefig(fig_path, format='svg', bbox_inches='tight')"
   ]
  },
  {
   "cell_type": "code",
   "execution_count": null,
   "metadata": {},
   "outputs": [],
   "source": []
  }
 ],
 "metadata": {
  "kernelspec": {
   "display_name": ".venv_win312",
   "language": "python",
   "name": "python3"
  },
  "language_info": {
   "codemirror_mode": {
    "name": "ipython",
    "version": 3
   },
   "file_extension": ".py",
   "mimetype": "text/x-python",
   "name": "python",
   "nbconvert_exporter": "python",
   "pygments_lexer": "ipython3",
   "version": "3.12.6"
  }
 },
 "nbformat": 4,
 "nbformat_minor": 2
}
