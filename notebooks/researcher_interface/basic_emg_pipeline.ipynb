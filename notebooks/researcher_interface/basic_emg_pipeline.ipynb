{
 "cells": [
  {
   "cell_type": "markdown",
   "metadata": {},
   "source": [
    "# 1. Import the required libraries"
   ]
  },
  {
   "cell_type": "code",
   "execution_count": null,
   "metadata": {},
   "outputs": [],
   "source": [
    "# Standard code libraries\n",
    "import os\n",
    "import matplotlib.pyplot as plt\n",
    "import ipywidgets as widgets\n",
    "from IPython.display import display\n",
    "\n",
    "# Custom code libraries from ReSurfEMG\n",
    "from resurfemg.data_connector.config import Config\n",
    "from resurfemg.pipelines import ipy_widgets\n",
    "from resurfemg.data_connector import file_discovery\n",
    "from resurfemg.data_connector.converter_functions import load_file\n",
    "from resurfemg.postprocessing import features as feat\n",
    "from resurfemg.postprocessing import quality_assessment as qa\n",
    "\n",
    "from resurfemg.data_connector.data_classes import (\n",
    "    VentilatorDataGroup, EmgDataGroup)\n",
    "\n",
    "%matplotlib widget"
   ]
  },
  {
   "cell_type": "markdown",
   "metadata": {},
   "source": [
    "## 2. Load the ventilator and sEMG data"
   ]
  },
  {
   "cell_type": "markdown",
   "metadata": {},
   "source": [
    "### 2a With test data"
   ]
  },
  {
   "cell_type": "code",
   "execution_count": null,
   "metadata": {},
   "outputs": [],
   "source": [
    "# Identify all recordings available for the selected patient/measurement_date\n",
    "\n",
    "# First find the patients\n",
    "config = Config()\n",
    "\n",
    "# Then find the files for the selected patients:\n",
    "base_path = config.get_directory('test_data')\n",
    "folder_levels = None\n",
    "\n",
    "emg_files = file_discovery.find_files(\n",
    "    base_path=base_path,\n",
    "    file_name_regex='emg_data_synth_*',\n",
    "    extension_regex='*',\n",
    "    folder_levels=folder_levels)\n",
    "\n",
    "vent_files = file_discovery.find_files(\n",
    "    base_path=base_path,\n",
    "    file_name_regex='vent_data_synth_*',\n",
    "    extension_regex='*',\n",
    "    folder_levels=folder_levels)\n",
    "folder_levels = ['files']"
   ]
  },
  {
   "cell_type": "markdown",
   "metadata": {},
   "source": [
    "### 2b II - With structured patient data (faster for many datasets)"
   ]
  },
  {
   "cell_type": "code",
   "execution_count": null,
   "metadata": {},
   "outputs": [],
   "source": [
    "# # First find the patients\n",
    "# config = Config()\n",
    "# base_path = config.get_directory('patient_data')\n",
    "# patients = file_discovery.find_folders(base_path)\n",
    "\n",
    "# # Select the patient\n",
    "# # Create a dropdown widget for patient selection\n",
    "# patient_dropdown = widgets.Dropdown(\n",
    "#     options=patients['destination'].tolist(),\n",
    "#     description='Patient:',\n",
    "#     disabled=False,\n",
    "# )\n",
    "\n",
    "# # Display the dropdown widget\n",
    "# display(patient_dropdown)"
   ]
  },
  {
   "cell_type": "code",
   "execution_count": null,
   "metadata": {},
   "outputs": [],
   "source": [
    "# # Then find the files for the selected patients:\n",
    "# folder_levels = ['days', 'measurement']\n",
    "\n",
    "# emg_files = file_discovery.find_files(\n",
    "#     base_path=os.path.join(base_path, patient_dropdown.value),\n",
    "#     file_name_regex='EMG*',\n",
    "#     extension_regex='poly5',\n",
    "#     folder_levels=folder_levels)\n",
    "# folder_levels = ['days', 'measurement']\n",
    "# vent_files = file_discovery.find_files(\n",
    "#     base_path=os.path.join(base_path, patient_dropdown.value),\n",
    "#     file_name_regex='Draeger*',\n",
    "#     extension_regex='poly5',\n",
    "#     folder_levels=folder_levels)\n",
    "\n",
    "# emg_files['patient'] = patient_dropdown.value\n",
    "# vent_files['patient'] = patient_dropdown.value\n",
    "# folder_levels.insert(0, 'patient')\n"
   ]
  },
  {
   "cell_type": "markdown",
   "metadata": {},
   "source": [
    "### 2b II - With structured patient data"
   ]
  },
  {
   "cell_type": "code",
   "execution_count": null,
   "metadata": {},
   "outputs": [],
   "source": [
    "# # Find the files for all files that meet the ./patient/day/measurement\n",
    "# # structure\n",
    "# config = Config()\n",
    "\n",
    "# base_path = config.get_directory('patient_data')\n",
    "# folder_levels = ['patient','days', 'measurement']\n",
    "\n",
    "# emg_files = file_discovery.find_files(\n",
    "#     base_path=base_path,\n",
    "#     file_name_regex='EMG*',\n",
    "#     extension_regex='poly5',\n",
    "#     folder_levels=folder_levels)\n",
    "# folder_levels = ['patient','days', 'measurement']\n",
    "# vent_files = file_discovery.find_files(\n",
    "#     base_path=base_path,\n",
    "#     file_name_regex='Draeger*',\n",
    "#     extension_regex='poly5',\n",
    "#     folder_levels=folder_levels)\n"
   ]
  },
  {
   "cell_type": "code",
   "execution_count": null,
   "metadata": {},
   "outputs": [],
   "source": [
    "# If you want to select another file:\n",
    "btn_list_emg = ipy_widgets.file_select(\n",
    "    emg_files,\n",
    "    folder_levels=folder_levels,\n",
    "    default_value_select=None,\n",
    "    default_idx_select=[1])\n",
    "btn_list_vent = ipy_widgets.file_select(\n",
    "    vent_files,\n",
    "    folder_levels=folder_levels,\n",
    "    default_value_select=None,\n",
    "    default_idx_select=[1])"
   ]
  },
  {
   "cell_type": "code",
   "execution_count": null,
   "metadata": {},
   "outputs": [],
   "source": [
    "# Load the EMG and ventilator data recordings from the selected folders.\n",
    "emg_file_chosen = os.path.join(base_path, *[btn.value for btn in btn_list_emg])\n",
    "vent_file_chosen = os.path.join(base_path, *[btn.value for btn in btn_list_vent])\n",
    "\n",
    "# Store the EMG data in a group of TimeSeries objects\n",
    "y_emg, _, metadata_emg = load_file(emg_file_chosen, verbose=False)\n",
    "emg_timeseries = EmgDataGroup(\n",
    "    y_emg,\n",
    "    fs=metadata_emg['fs'],\n",
    "    labels=metadata_emg['labels'],\n",
    "    units=metadata_emg['units'] )\n",
    "\n",
    "# Store the ventilator data in a group of TimeSeries objects\n",
    "y_vent, _, metadata_vent = load_file(vent_file_chosen, verbose=False)\n",
    "vent_timeseries = VentilatorDataGroup(\n",
    "    y_vent,\n",
    "    fs=metadata_vent['fs'],\n",
    "    labels=metadata_vent['labels'],\n",
    "    units=metadata_vent['units'])"
   ]
  },
  {
   "cell_type": "markdown",
   "metadata": {},
   "source": [
    "# 3. Pre-process the data"
   ]
  },
  {
   "cell_type": "code",
   "execution_count": null,
   "metadata": {},
   "outputs": [],
   "source": [
    "# Filter\n",
    "emg_timeseries.run('filter_emg')"
   ]
  },
  {
   "cell_type": "code",
   "execution_count": null,
   "metadata": {},
   "outputs": [],
   "source": [
    "# ECG removal\n",
    "# Through gating\n",
    "emg_timeseries.run('gating', overwrite=True)\n",
    "\n",
    "# # Through wavelet denoising\n",
    "# emg_timeseries.run('wavelet_denoising', overwrite=True)\n",
    "# # emg_timeseries.run('wavelet_denoising', n=8, fixed_threshold=8.0, overwrite=True)"
   ]
  },
  {
   "cell_type": "code",
   "execution_count": null,
   "metadata": {},
   "outputs": [],
   "source": [
    "# Calculate the envelope of the signal\n",
    "emg_timeseries.run('envelope')\n",
    "# emg_timeseries.run('envelope', ci_alpha=0.05)\n",
    "# emg_timeseries.run('envelope', env_type='arv')\n",
    "# emg_timeseries.run('envelope', env_type='arv', ci_alpha=0.05)"
   ]
  },
  {
   "cell_type": "code",
   "execution_count": null,
   "metadata": {},
   "outputs": [],
   "source": [
    "# Calculate the baseline for the EMG envelopes and p_vent\n",
    "emg_timeseries.run('baseline')\n",
    "vent_timeseries.run(\n",
    "    'baseline',\n",
    "    channel_idxs=[0],\n",
    "    signal_type='raw')"
   ]
  },
  {
   "cell_type": "code",
   "execution_count": null,
   "metadata": {},
   "outputs": [],
   "source": [
    "# Plot the raw data with the envelope\n",
    "# EMG data\n",
    "n_rows = max([len(emg_timeseries.channels), len(vent_timeseries.channels)])\n",
    "fig, axis = plt.subplots(nrows=n_rows, ncols=2, figsize=(n_rows*3, 6), sharex=True)\n",
    "axes_emg = axis[:len(emg_timeseries.channels), 0]\n",
    "colors = ['tab:cyan', 'tab:orange']\n",
    "emg_timeseries.run(\n",
    "    'plot_full', axes=axes_emg, signal_type='clean', baseline_bool=False)\n",
    "emg_timeseries.run(\n",
    "    'plot_full', axes=axes_emg, signal_type='env', colors=colors)\n",
    "\n",
    "axes_emg[0].set_title('EMG data')\n",
    "axes_emg[-1].set_xlabel('t (s)')\n",
    "\n",
    "# Ventilator data data\n",
    "axes_vent = axis[:, 1]\n",
    "vent_timeseries.run('plot_full', axes=axes_vent)\n",
    "axes_vent[0].set_title('Ventilator data')\n",
    "axes_vent[-1].set_xlabel('t (s)')\n",
    "\n",
    "if n_rows > len(emg_timeseries.channels):\n",
    "    for ax_idx in range(len(emg_timeseries.channels), n_rows):\n",
    "        axis[ax_idx, 0].axis('off')\n",
    "    axis[len(emg_timeseries.channels)-1, 0].tick_params(\n",
    "        axis='x', which='both', labelbottom=True)\n",
    "\n",
    "axes_vent[-1].set_xlim([0, 10])"
   ]
  },
  {
   "cell_type": "markdown",
   "metadata": {},
   "source": [
    "# 3. Identify supported breaths in p_vent"
   ]
  },
  {
   "cell_type": "code",
   "execution_count": null,
   "metadata": {},
   "outputs": [],
   "source": [
    "# Set p_vent_idx if it is not already set\n",
    "if vent_timeseries.p_vent_idx is None:\n",
    "    vent_timeseries.p_vent_idx = 0\n",
    "\n",
    "# Set v_vent_idx if it is not already set\n",
    "if vent_timeseries.v_vent_idx is None:\n",
    "    vent_timeseries.v_vent_idx = 2"
   ]
  },
  {
   "cell_type": "code",
   "execution_count": null,
   "metadata": {},
   "outputs": [],
   "source": [
    "# Find supported breath pressures\n",
    "p_vent = vent_timeseries[vent_timeseries.p_vent_idx]\n",
    "v_vent = vent_timeseries[vent_timeseries.v_vent_idx]\n",
    "vent_timeseries.find_tidal_volume_peaks()\n",
    "p_vent.peaks['ventilator_breaths'].detect_on_offset(\n",
    "    baseline=p_vent.y_baseline\n",
    ")\n"
   ]
  },
  {
   "cell_type": "markdown",
   "metadata": {},
   "source": [
    "# 4. Identify all sEMG breaths"
   ]
  },
  {
   "cell_type": "markdown",
   "metadata": {},
   "source": [
    "Two strategies can be employed: \n",
    "- a. detect any EMG peak that can possibly a breath and eliminate implausible breaths based on the quality criteria;\n",
    "- b. detect only higher EMG peaks by using a higher threshold for detection.\n",
    "\n",
    "The former is used below. The latter can be implemented by setting additional parameters for the detect_emg_breaths method."
   ]
  },
  {
   "cell_type": "code",
   "execution_count": null,
   "metadata": {},
   "outputs": [],
   "source": [
    "# Find sEAdi peaks in one channel (sEAdi)\n",
    "emg_di = emg_timeseries['EMGdi']\n",
    "emg_di.detect_emg_breaths(peak_set_name='breaths')\n",
    "# emg_di.detect_emg_breaths(peak_set_name='breaths', prominence_factor=1.5)\n",
    "\n",
    "# Similar to above for Pocc and ventilator breaths:\n",
    "emg_di.peaks['breaths'].detect_on_offset(\n",
    "    baseline=emg_di.y_baseline\n",
    ")"
   ]
  },
  {
   "cell_type": "markdown",
   "metadata": {},
   "source": [
    "# 5. Calculate features"
   ]
  },
  {
   "cell_type": "code",
   "execution_count": null,
   "metadata": {},
   "outputs": [],
   "source": [
    "# Respiratory rates based on ventilator data\n",
    "tv_idxs = v_vent.peaks['ventilator_breaths']['peak_idx']\n",
    "rr_vent, _ = feat.respiratory_rate(\n",
    "    tv_idxs, metadata_vent['fs'])\n",
    "\n",
    "rr_vent, _ = feat.respiratory_rate(\n",
    "    v_vent.peaks['ventilator_breaths']['peak_idx'],\n",
    "    v_vent.param['fs'])\n",
    "v_vent.param['rr'] = rr_vent\n",
    "p_vent.param['rr'] = rr_vent\n",
    "print('The detected respiratory rate in the ventilator data is: '\n",
    "      + f'{round(rr_vent, 1)} /min')\n",
    "\n",
    "# Respiratory rates based on EMG data\n",
    "emg_di_idxs = emg_di.peaks['breaths']['peak_idx']\n",
    "rr_emg, _ = feat.respiratory_rate(\n",
    "    emg_di_idxs, metadata_emg['fs']\n",
    ")\n",
    "emg_di.param['rr'] = rr_emg\n",
    "print('The detected respiratory rate in the sEAdi data is: '\n",
    "      + f'{round(rr_emg, 1)} /min')"
   ]
  },
  {
   "cell_type": "code",
   "execution_count": null,
   "metadata": {},
   "outputs": [],
   "source": [
    "# EMG amplitudes\n",
    "emg_di_pocc_idxs = emg_di.peaks['breaths']['peak_idx']\n",
    "sEAdi_amplitudes = feat.amplitude(\n",
    "    signal=emg_di.y_env,\n",
    "    peak_idxs=emg_di_pocc_idxs,\n",
    "    baseline=emg_di.y_baseline,\n",
    ")\n",
    "emg_di.peaks['breaths'].peak_df['amplitude'] = sEAdi_amplitudes"
   ]
  },
  {
   "cell_type": "code",
   "execution_count": null,
   "metadata": {},
   "outputs": [],
   "source": [
    "# Calculate ETPdi\n",
    "emg_di.calculate_time_products(\n",
    "    peak_set_name='breaths', parameter_name='ETPdi')"
   ]
  },
  {
   "cell_type": "markdown",
   "metadata": {},
   "source": [
    "# 6. Test sEMG quality"
   ]
  },
  {
   "cell_type": "code",
   "execution_count": null,
   "metadata": {},
   "outputs": [],
   "source": [
    "# Test EMG quality on an individual peak basis. This includes the following\n",
    "# tests:\n",
    "# - interpeak_distance: EMG interpeak time as compared to ECG interbeat time\n",
    "# - snr: pseudo signal-to-noise ratio\n",
    "# - aub: area under the baseline relative to total ETP\n",
    "# - curve_fit: deviation of the bell curve fit relative to total ETP\n",
    "#\n",
    "# Relative ETP and AUB tested during a second stage, including only peaks that\n",
    "# passed the first stage.\n",
    "\n",
    "parameter_names = {\n",
    "    'time_product': 'ETPdi'\n",
    "}\n",
    "emg_di.test_emg_quality(\n",
    "    skip_tests=['relative_etp', 'relative_aub'],\n",
    "    peak_set_name='breaths',\n",
    "    parameter_names=parameter_names,\n",
    "    verbose=False)"
   ]
  },
  {
   "cell_type": "code",
   "execution_count": null,
   "metadata": {},
   "outputs": [],
   "source": [
    "# Remove peaks that did not pass the quality tests\n",
    "emg_di.peaks['breaths'].sanitize()"
   ]
  },
  {
   "cell_type": "code",
   "execution_count": null,
   "metadata": {},
   "outputs": [],
   "source": [
    "# Test EMG quality for relative_etp and relative_aub\n",
    "parameter_names = {\n",
    "    'time_product': 'ETPdi'\n",
    "}\n",
    "emg_di.test_emg_quality(\n",
    "    skip_tests=[],\n",
    "    peak_set_name='breaths',\n",
    "    parameter_names=parameter_names,\n",
    "    verbose=False)"
   ]
  },
  {
   "cell_type": "code",
   "execution_count": null,
   "metadata": {},
   "outputs": [],
   "source": [
    "# Plot identified peaks\n",
    "fig, axis = plt.subplots(nrows=n_rows, ncols=2, figsize=(n_rows*3, 6), sharex=True)\n",
    "axes_emg = axis[:len(emg_timeseries.channels), 0]\n",
    "\n",
    "colors = ['tab:cyan', 'tab:orange']\n",
    "# emg_timeseries.run(\n",
    "#     'plot_full', axes=axes_emg, signal_type='clean', baseline_bool=False)\n",
    "emg_timeseries.run(\n",
    "    'plot_full', axes=axes_emg, signal_type='env')\n",
    "emg_timeseries[1].plot_markers(\n",
    "    peak_set_name='breaths', axes=axes_emg[1], valid_only=True)\n",
    "\n",
    "axes_emg[0].set_title('EMG data')\n",
    "axes_emg[-1].set_xlabel('t (s)')\n",
    "\n",
    "# Ventilator data data\n",
    "axes_vent = axis[:, 1]\n",
    "vent_timeseries.run('plot_full', axes=axes_vent)\n",
    "axes_vent[0].set_title('Ventilator data')\n",
    "axes_vent[-1].set_xlabel('t (s)')\n",
    "\n",
    "\n",
    "if n_rows > len(emg_timeseries.channels):\n",
    "    for ax_idx in range(len(emg_timeseries.channels), n_rows):\n",
    "        axis[ax_idx, 0].axis('off')\n",
    "    axis[len(emg_timeseries.channels)-1, 0].tick_params(\n",
    "        axis='x', which='both', labelbottom=True)\n",
    "\n",
    "axes_vent[-1].set_xlim([0 , 10])"
   ]
  },
  {
   "cell_type": "markdown",
   "metadata": {},
   "source": [
    "# 5. Link EMG breaths to closest Ventilator breaths"
   ]
  },
  {
   "cell_type": "code",
   "execution_count": null,
   "metadata": {},
   "outputs": [],
   "source": [
    "# Find the EMG peaks with the peak timing closest to the Pocc timings, and\n",
    "# link ventilator Pocc peaks to EMG breaths\n",
    "t_peaks_vent = p_vent.peaks['ventilator_breaths']['peak_idx'] / p_vent.param['fs']\n",
    "\n",
    "emg_di.link_peak_set(\n",
    "    peak_set_name='breaths',\n",
    "    t_reference_peaks=t_peaks_vent,\n",
    "    linked_peak_set_name='linked_breaths',\n",
    ")"
   ]
  },
  {
   "cell_type": "code",
   "execution_count": null,
   "metadata": {},
   "outputs": [],
   "source": [
    "# Eliminate linked peaks that do not fall within the set window around the\n",
    "# tidal volume peak\n",
    "cutoff = {}\n",
    "cutoff['fraction_emg_breaths'] = 0.1\n",
    "cutoff['delta_min'] = -0.5\n",
    "cutoff['delta_max'] = 30 / v_vent.param['rr']\n",
    "emg_di.test_linked_peak_sets(\n",
    "    'linked_breaths', v_vent, 'ventilator_breaths', cutoff=cutoff, verbose=False)"
   ]
  },
  {
   "cell_type": "code",
   "execution_count": null,
   "metadata": {},
   "outputs": [],
   "source": [
    "emg_di.peaks['linked_breaths'].sanitize()"
   ]
  },
  {
   "cell_type": "code",
   "execution_count": null,
   "metadata": {},
   "outputs": [],
   "source": [
    "# Create a new peak set for the linked peaks in the ventilator timeseries\n",
    "t_emg_breaths = emg_di.peaks['linked_breaths']['peak_idx'] / emg_di.param['fs']\n",
    "\n",
    "v_vent.link_peak_set(\n",
    "    peak_set_name='ventilator_breaths',\n",
    "    t_reference_peaks=t_emg_breaths,\n",
    "    linked_peak_set_name='linked_breaths',\n",
    ")\n"
   ]
  },
  {
   "cell_type": "code",
   "execution_count": null,
   "metadata": {},
   "outputs": [],
   "source": [
    "# Test general signal characteristics\n",
    "emg_di_idxs = emg_di.peaks['linked_breaths']['peak_idx']\n",
    "\n",
    "fraction_emg_breaths, _ = qa.evaluate_respiratory_rates(\n",
    "    emg_breath_idxs=emg_di_idxs,\n",
    "    t_emg=max(emg_di.t_data),\n",
    "    rr_vent=rr_vent\n",
    ")\n",
    "print('The fraction detected EMG breaths is: {:0.2f} %'.format(\n",
    "    100*fraction_emg_breaths))"
   ]
  },
  {
   "cell_type": "markdown",
   "metadata": {},
   "source": [
    "## 6 Plot a subset of identified ventilator and sEMG peaks"
   ]
  },
  {
   "cell_type": "code",
   "execution_count": null,
   "metadata": {},
   "outputs": [],
   "source": [
    "# Create new peak sets with the first 4 breaths\n",
    "t_first_emg_peaks = (\n",
    "    emg_di.peaks['linked_breaths'].peak_df.loc[:3, 'peak_idx'].to_numpy()\n",
    "    / metadata_emg['fs'])\n",
    "emg_di.link_peak_set(\n",
    "    peak_set_name='linked_breaths',\n",
    "    t_reference_peaks=t_first_emg_peaks,\n",
    "    linked_peak_set_name='first_breaths',\n",
    ")\n",
    "\n",
    "p_vent.link_peak_set(\n",
    "    peak_set_name='ventilator_breaths',\n",
    "    t_reference_peaks=t_first_emg_peaks,\n",
    "    linked_peak_set_name='first_breaths',\n",
    ")\n",
    "v_vent.link_peak_set(\n",
    "    peak_set_name='ventilator_breaths',\n",
    "    t_reference_peaks=t_first_emg_peaks,\n",
    "    linked_peak_set_name='first_breaths',\n",
    ")\n"
   ]
  },
  {
   "cell_type": "code",
   "execution_count": null,
   "metadata": {},
   "outputs": [],
   "source": [
    "# Plot the identified Pocc peaks in p_vent and sEAdi\n",
    "fig, axis = plt.subplots(nrows=n_rows, ncols=2, figsize=(n_rows*3, 6), sharex=True)\n",
    "axes_emg = axis[:len(emg_timeseries.channels), 0]\n",
    "colors = ['tab:cyan', 'tab:orange', 'tab:red']\n",
    "emg_timeseries.run('plot_full', axes=axes_emg, signal_type='env')\n",
    "emg_di.plot_markers(peak_set_name='first_breaths', axes=axes_emg[1])\n",
    "\n",
    "\n",
    "axes_emg[1].set_ylabel('sEAdi (uV)')\n",
    "axes_emg[0].set_title('EMG data')\n",
    "axes_emg[-1].set_xlabel('t (s)')\n",
    "\n",
    "axes_vent = axis[:, 1]\n",
    "vent_timeseries.run('plot_full', axes=axes_vent)\n",
    "p_vent.plot_markers(peak_set_name='first_breaths', axes=axes_vent[0])\n",
    "v_vent.plot_markers(peak_set_name='first_breaths', axes=axes_vent[2])\n",
    "\n",
    "axes_vent[0].set_title('Ventilator data')\n",
    "axes_vent[-1].set_xlabel('t (s)')\n",
    "\n",
    "if n_rows > len(emg_timeseries.channels):\n",
    "    for ax_idx in range(len(emg_timeseries.channels), n_rows):\n",
    "        axis[ax_idx, 0].axis('off')\n",
    "    axis[len(emg_timeseries.channels)-1, 0].tick_params(\n",
    "        axis='x', which='both', labelbottom=True)\n",
    "\n",
    "\n",
    "# Let's zoom in on the subset of peaks:\n",
    "axes_vent[-1].set_xlim([0, 10])"
   ]
  },
  {
   "cell_type": "code",
   "execution_count": null,
   "metadata": {},
   "outputs": [],
   "source": [
    "# Plot the individual peaks bell-fit\n",
    "\n",
    "n_peaks = len(emg_di.peaks['first_breaths'].peak_df['start_idx'])\n",
    "fig, axis = plt.subplots(nrows=2, ncols=n_peaks, figsize=(10, 6), sharey='row')\n",
    "\n",
    "axes_emg = axis[0, :]\n",
    "colors = ['tab:cyan', 'tab:orange', 'tab:red']\n",
    "emg_di.plot_peaks(axes=axes_emg, peak_set_name='first_breaths')\n",
    "emg_di.plot_markers(axes=axes_emg, peak_set_name='first_breaths')\n",
    "emg_di.plot_curve_fits(axes=axes_emg, peak_set_name='first_breaths')\n",
    "axes_emg[0].set_ylabel('sEAdi (uV)')\n",
    "\n",
    "axes_vent = axis[1, :]\n",
    "p_vent.plot_peaks(axes=axes_vent, peak_set_name='first_breaths')\n",
    "p_vent.plot_markers(axes=axes_vent, peak_set_name='first_breaths')\n",
    "\n",
    "for axis in axes_vent:\n",
    "    axis.set_xlabel('t (s)')"
   ]
  },
  {
   "cell_type": "code",
   "execution_count": null,
   "metadata": {},
   "outputs": [],
   "source": [
    "# Plot the individual peaks area under the baseline\n",
    "n_peaks = len(emg_di.peaks['first_breaths']['start_idx'])\n",
    "fig, axis = plt.subplots(nrows=2, ncols=n_peaks, figsize=(10, 6), sharey='row')\n",
    "\n",
    "axes_emg = axis[0, :]\n",
    "emg_di.plot_aub(axes=axes_emg, signal_type='env', peak_set_name='first_breaths')\n",
    "colors = ['tab:cyan', 'tab:orange', 'tab:red']\n",
    "emg_di.plot_peaks(axes=axes_emg, peak_set_name='first_breaths')\n",
    "emg_di.plot_markers(axes=axes_emg, peak_set_name='first_breaths')\n",
    "axes_emg[0].set_ylabel('sEAdi (uV)')\n",
    "\n",
    "axes_vent = axis[1, :]\n",
    "p_vent.plot_peaks(axes=axes_vent, peak_set_name='first_breaths')\n",
    "p_vent.plot_markers(axes=axes_vent, peak_set_name='first_breaths')\n",
    "\n",
    "for axis in axes_vent:\n",
    "    axis.set_xlabel('t (s)')"
   ]
  },
  {
   "cell_type": "code",
   "execution_count": null,
   "metadata": {},
   "outputs": [],
   "source": []
  }
 ],
 "metadata": {
  "kernelspec": {
   "display_name": ".venv_win312",
   "language": "python",
   "name": "python3"
  },
  "language_info": {
   "codemirror_mode": {
    "name": "ipython",
    "version": 3
   },
   "file_extension": ".py",
   "mimetype": "text/x-python",
   "name": "python",
   "nbconvert_exporter": "python",
   "pygments_lexer": "ipython3",
   "version": "3.12.6"
  }
 },
 "nbformat": 4,
 "nbformat_minor": 2
}
