{
 "cells": [
  {
   "cell_type": "markdown",
   "metadata": {},
   "source": [
    "# 1. Import the required libraries"
   ]
  },
  {
   "cell_type": "code",
   "execution_count": null,
   "metadata": {},
   "outputs": [],
   "source": [
    "# Standard code libraries\n",
    "import os\n",
    "import pandas as pd\n",
    "import ipywidgets as widgets\n",
    "import matplotlib.pyplot as plt\n",
    "\n",
    "# Custom code libraries from ReSurfEMG\n",
    "from resurfemg.data_connector.config import Config\n",
    "from resurfemg.data_connector.file_discovery import find_files, find_folders\n",
    "from resurfemg.pipelines.ipy_widgets import file_select\n",
    "from resurfemg.data_connector.adicht_reader import AdichtReader\n",
    "from resurfemg.data_connector.data_classes import EmgDataGroup, VentilatorDataGroup\n",
    "\n",
    "config = Config(verbose=True)\n",
    "\n",
    "%matplotlib widget"
   ]
  },
  {
   "cell_type": "markdown",
   "metadata": {},
   "source": [
    "## 2. Load sEMG test data"
   ]
  },
  {
   "cell_type": "code",
   "execution_count": null,
   "metadata": {},
   "outputs": [],
   "source": [
    "# File selection\n",
    "base_path = config.get_directory('test_data')\n",
    "\n",
    "files = find_files(\n",
    "    base_path=base_path,\n",
    "    file_name_regex='*',\n",
    "    extension_regex='adi*',\n",
    "    folder_levels=None,\n",
    "    verbose=False\n",
    ")\n",
    "\n",
    "button_list = file_select(\n",
    "    files=files,\n",
    "    folder_levels=['files'],\n",
    "    default_value_select=None,\n",
    "    default_idx_select=[0])"
   ]
  },
  {
   "cell_type": "code",
   "execution_count": null,
   "metadata": {},
   "outputs": [],
   "source": [
    "# Load the EMG from the selected folders:\n",
    "emg_file_chosen = os.path.join(base_path, *[btn.value for btn in button_list])\n",
    "adicht_data = AdichtReader(emg_file_chosen)\n",
    "\n",
    "# Print metadata\n",
    "_ = adicht_data.print_metadata()    \n",
    "# NB Test data (all_data_synth_quiet_breathing.adidat): The units for all \n",
    "#   channels are mV, whereas they should be cmH2O, L/min, mL, uV, and uV."
   ]
  },
  {
   "cell_type": "code",
   "execution_count": null,
   "metadata": {},
   "outputs": [],
   "source": [
    "# Extract the EMG data\n",
    "select_channel_idxs = [3, 4]\n",
    "record_idx = 0\n",
    "resample_channels_dict = None\n",
    "\n",
    "data_emg_df, fs_emg = adicht_data.extract_data(\n",
    "    channel_idxs=select_channel_idxs,\n",
    "    record_idx=record_idx,\n",
    "    resample_channels=resample_channels_dict,\n",
    ")\n",
    "# Get the labels and units of the selected channels\n",
    "y_emg = data_emg_df.to_numpy().T\n",
    "labels  = adicht_data.get_labels(select_channel_idxs)\n",
    "units   = adicht_data.get_units(select_channel_idxs, record_idx)\n",
    "# NB: The units in the example data are in mV, so overwrite them to uV\n",
    "units = ['uV' for _ in units]\n",
    "\n",
    "# Store the EMG data in a group of TimeSeries objects\n",
    "t_emg = [i/fs_emg for i in range(len(y_emg[0, :]))]\n",
    "emg_timeseries = EmgDataGroup(\n",
    "    y_emg,\n",
    "    fs=fs_emg,\n",
    "    labels=labels,\n",
    "    units=units)"
   ]
  },
  {
   "cell_type": "code",
   "execution_count": null,
   "metadata": {},
   "outputs": [],
   "source": [
    "emg_timeseries.set_ecg_idx(0)"
   ]
  },
  {
   "cell_type": "code",
   "execution_count": null,
   "metadata": {},
   "outputs": [],
   "source": [
    "# Extract the ventilator data\n",
    "select_channel_idxs = [*range(3)]\n",
    "record_idx = 0\n",
    "resample_channels_dict = None\n",
    "\n",
    "data_vent_df, fs_vent = adicht_data.extract_data(\n",
    "    channel_idxs=select_channel_idxs,\n",
    "    record_idx=record_idx,\n",
    "    resample_channels=resample_channels_dict,\n",
    ")\n",
    "# Get the labels and units of the selected channels\n",
    "y_vent = data_vent_df.to_numpy().T\n",
    "labels  = adicht_data.get_labels(select_channel_idxs)\n",
    "units   = adicht_data.get_units(select_channel_idxs, record_idx)\n",
    "# NB: The units in the example data are in mV, so overwrite them:\n",
    "labels = ['Paw', 'Flow', 'Volume']\n",
    "units = ['cmH2O', 'L/min', 'mL']\n",
    "\n",
    "# Store the ventilator data in a group of TimeSeries objects\n",
    "t_vent = [i/fs_vent for i in range(len(y_vent[0, :]))]\n",
    "vent_timeseries = VentilatorDataGroup(\n",
    "    y_vent,\n",
    "    fs=fs_vent,\n",
    "    labels=labels,\n",
    "    units=units)"
   ]
  },
  {
   "cell_type": "code",
   "execution_count": null,
   "metadata": {},
   "outputs": [],
   "source": [
    "# Alternatively, the data can be resampled\n",
    "\n",
    "# Select the channels and records to be extracted by index (default)\n",
    "select_channel_idxs = [*range(5)]\n",
    "record_idx = 0\n",
    "\n",
    "# Set the resampling rate for each channel\n",
    "resample_channels_dict={       \n",
    "  0: 2048,\n",
    "  1: 2048,\n",
    "  2: 2048,\n",
    "}\n",
    "\n",
    "# Extract the data\n",
    "data_all_df, fs_all = adicht_data.extract_data(\n",
    "    channel_idxs=select_channel_idxs,\n",
    "    record_idx=record_idx,\n",
    "    resample_channels=resample_channels_dict,\n",
    ")\n",
    "\n",
    "# Get the labels and units of the selected channels\n",
    "y_all = data_all_df.to_numpy().T\n",
    "labels  = adicht_data.get_labels(select_channel_idxs)\n",
    "units   = adicht_data.get_units(select_channel_idxs, record_idx)\n",
    "\n",
    "labels = ['Paw', 'Flow', 'Volume', 'ECG', 'EMGdi']\n",
    "units = ['cmH2O', 'L/min', 'mL', 'uV', 'uV']\n",
    "\n",
    "# Store the data in a group of TimeSeries objects\n",
    "t_all = [i/fs_all for i in range(len(y_all[0, :]))]\n",
    "data_timeseries = EmgDataGroup(\n",
    "    y_all,\n",
    "    fs=fs_all,\n",
    "    labels=labels,\n",
    "    units=units)"
   ]
  },
  {
   "cell_type": "markdown",
   "metadata": {},
   "source": [
    "# 3. Pre-process the data"
   ]
  },
  {
   "cell_type": "code",
   "execution_count": null,
   "metadata": {},
   "outputs": [],
   "source": [
    "# Filter\n",
    "emg_timeseries.run('filter_emg')"
   ]
  },
  {
   "cell_type": "code",
   "execution_count": null,
   "metadata": {},
   "outputs": [],
   "source": [
    "# # Through gating\n",
    "# emg_timeseries.gating(overwrite=True)\n",
    "emg_timeseries.run('gating', overwrite=True)\n",
    "\n",
    "# # Through wavelet denoising\n",
    "# emg_timeseries.run('wavelet_denoising', overwrite=True)\n",
    "# # emg_timeseries.run('wavelet_denoising', n=8, fixed_threshold=8.0, overwrite=True)"
   ]
  },
  {
   "cell_type": "code",
   "execution_count": null,
   "metadata": {},
   "outputs": [],
   "source": [
    "# Calculate the envelope of the signal\n",
    "emg_timeseries.run('envelope')\n",
    "# emg_timeseries.run('envelope', ci_alpha=0.05)\n",
    "# emg_timeseries.run('envelope', env_type='arv')\n",
    "# emg_timeseries.run('envelope', env_type='arv', ci_alpha=0.05)"
   ]
  },
  {
   "cell_type": "code",
   "execution_count": null,
   "metadata": {},
   "outputs": [],
   "source": [
    "# Calculate the baseline for the EMG envelopes and p_vent\n",
    "emg_timeseries.run('baseline')\n",
    "# vent_timeseries.run(\n",
    "#     'baseline',\n",
    "#     channel_idxs=[0],\n",
    "#     signal_type='raw')"
   ]
  },
  {
   "cell_type": "code",
   "execution_count": null,
   "metadata": {},
   "outputs": [],
   "source": [
    "# Plot the raw data with the envelope\n",
    "# EMG data\n",
    "fig, axis = plt.subplots(nrows=3, ncols=2, figsize=(12, 6), sharex=True)\n",
    "axes_emg = axis[:2, 0]\n",
    "colors = ['tab:cyan', 'tab:orange']\n",
    "emg_timeseries.run(\n",
    "    'plot_full', axes=axes_emg, signal_type='clean', baseline_bool=False)\n",
    "emg_timeseries.run(\n",
    "    'plot_full', axes=axes_emg, signal_type='env', colors=colors)\n",
    "\n",
    "axes_emg[0].set_title('EMG data')\n",
    "axes_emg[-1].set_xlabel('t (s)')\n",
    "\n",
    "# Ventilator data data\n",
    "axes_vent = axis[:, 1]\n",
    "vent_timeseries.run('plot_full', axes=axes_vent)\n",
    "axes_vent[0].set_title('Ventilator data')\n",
    "axes_vent[-1].set_xlabel('t (s)')\n",
    "\n",
    "axis[-1, 0].axis('off')\n",
    "\n",
    "axes_vent[-1].set_xlim([0, 10])"
   ]
  },
  {
   "cell_type": "code",
   "execution_count": null,
   "metadata": {},
   "outputs": [],
   "source": []
  }
 ],
 "metadata": {
  "kernelspec": {
   "display_name": ".venv_addicht",
   "language": "python",
   "name": "python3"
  },
  "language_info": {
   "codemirror_mode": {
    "name": "ipython",
    "version": 3
   },
   "file_extension": ".py",
   "mimetype": "text/x-python",
   "name": "python",
   "nbconvert_exporter": "python",
   "pygments_lexer": "ipython3",
   "version": "3.12.6"
  }
 },
 "nbformat": 4,
 "nbformat_minor": 4
}
