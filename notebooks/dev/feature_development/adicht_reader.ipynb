{
 "cells": [
  {
   "cell_type": "code",
   "execution_count": 4,
   "metadata": {},
   "outputs": [],
   "source": [
    "from resurfemg.data_connector.adicht_reader import AdichtReader\n",
    "import pandas as pd"
   ]
  },
  {
   "cell_type": "code",
   "execution_count": 5,
   "metadata": {},
   "outputs": [
    {
     "ename": "FileNotFoundError",
     "evalue": "The file 'C:/Example/Path/filename.adicht' was not found.",
     "output_type": "error",
     "traceback": [
      "\u001b[1;31m---------------------------------------------------------------------------\u001b[0m",
      "\u001b[1;31mFileNotFoundError\u001b[0m                         Traceback (most recent call last)",
      "Cell \u001b[1;32mIn[5], line 4\u001b[0m\n\u001b[0;32m      1\u001b[0m \u001b[38;5;66;03m# Example Usage\u001b[39;00m\n\u001b[0;32m      3\u001b[0m emg_file_chosen \u001b[38;5;241m=\u001b[39m \u001b[38;5;124m\"\u001b[39m\u001b[38;5;124mC:/Example/Path/filename.adicht\u001b[39m\u001b[38;5;124m\"\u001b[39m\n\u001b[1;32m----> 4\u001b[0m adicht_data \u001b[38;5;241m=\u001b[39m \u001b[43mAdichtReader\u001b[49m\u001b[43m(\u001b[49m\u001b[43memg_file_chosen\u001b[49m\u001b[43m)\u001b[49m\n\u001b[0;32m      5\u001b[0m adicht_data\u001b[38;5;241m.\u001b[39mprint_metadata()    \u001b[38;5;66;03m# Extracts and provides a tabular overview of the channels, samples, records, sampling rates, units, and time step.\u001b[39;00m\n\u001b[0;32m      7\u001b[0m selected_channel_ids \u001b[38;5;241m=\u001b[39m [\u001b[38;5;241m1\u001b[39m,\u001b[38;5;241m7\u001b[39m,\u001b[38;5;241m8\u001b[39m]\n",
      "File \u001b[1;32mc:\\users\\robwa\\repos\\work\\resurfemg_fork0\\resurfemg\\data_connector\\adicht_reader.py:35\u001b[0m, in \u001b[0;36mAdichtReader.__init__\u001b[1;34m(self, file_path)\u001b[0m\n\u001b[0;32m     32\u001b[0m \u001b[38;5;28mself\u001b[39m\u001b[38;5;241m.\u001b[39mchannel_map \u001b[38;5;241m=\u001b[39m \u001b[38;5;28;01mNone\u001b[39;00m         \u001b[38;5;66;03m# Dictionary mapping channel names to IDs\u001b[39;00m\n\u001b[0;32m     33\u001b[0m \u001b[38;5;28mself\u001b[39m\u001b[38;5;241m.\u001b[39madicht_data \u001b[38;5;241m=\u001b[39m \u001b[38;5;28;01mNone\u001b[39;00m         \u001b[38;5;66;03m# Reader object for the file\u001b[39;00m\n\u001b[1;32m---> 35\u001b[0m \u001b[38;5;28;43mself\u001b[39;49m\u001b[38;5;241;43m.\u001b[39;49m\u001b[43m_validate_file_path\u001b[49m\u001b[43m(\u001b[49m\u001b[43m)\u001b[49m\n\u001b[0;32m     36\u001b[0m \u001b[38;5;28mself\u001b[39m\u001b[38;5;241m.\u001b[39m_initialize_reader()\n\u001b[0;32m     37\u001b[0m \u001b[38;5;28mself\u001b[39m\u001b[38;5;241m.\u001b[39m_initialize_channel_map()\n",
      "File \u001b[1;32mc:\\users\\robwa\\repos\\work\\resurfemg_fork0\\resurfemg\\data_connector\\adicht_reader.py:45\u001b[0m, in \u001b[0;36mAdichtReader._validate_file_path\u001b[1;34m(self)\u001b[0m\n\u001b[0;32m     43\u001b[0m \u001b[38;5;28;01mimport\u001b[39;00m\u001b[38;5;250m \u001b[39m\u001b[38;5;21;01mos\u001b[39;00m\n\u001b[0;32m     44\u001b[0m \u001b[38;5;28;01mif\u001b[39;00m \u001b[38;5;129;01mnot\u001b[39;00m os\u001b[38;5;241m.\u001b[39mpath\u001b[38;5;241m.\u001b[39mexists(\u001b[38;5;28mself\u001b[39m\u001b[38;5;241m.\u001b[39mfile_path):\n\u001b[1;32m---> 45\u001b[0m     \u001b[38;5;28;01mraise\u001b[39;00m \u001b[38;5;167;01mFileNotFoundError\u001b[39;00m(\u001b[38;5;124mf\u001b[39m\u001b[38;5;124m\"\u001b[39m\u001b[38;5;124mThe file \u001b[39m\u001b[38;5;124m'\u001b[39m\u001b[38;5;132;01m{\u001b[39;00m\u001b[38;5;28mself\u001b[39m\u001b[38;5;241m.\u001b[39mfile_path\u001b[38;5;132;01m}\u001b[39;00m\u001b[38;5;124m'\u001b[39m\u001b[38;5;124m was not found.\u001b[39m\u001b[38;5;124m\"\u001b[39m)\n\u001b[0;32m     46\u001b[0m \u001b[38;5;28;01mif\u001b[39;00m \u001b[38;5;129;01mnot\u001b[39;00m os\u001b[38;5;241m.\u001b[39mpath\u001b[38;5;241m.\u001b[39misfile(\u001b[38;5;28mself\u001b[39m\u001b[38;5;241m.\u001b[39mfile_path):\n\u001b[0;32m     47\u001b[0m     \u001b[38;5;28;01mraise\u001b[39;00m \u001b[38;5;167;01mValueError\u001b[39;00m(\u001b[38;5;124mf\u001b[39m\u001b[38;5;124m\"\u001b[39m\u001b[38;5;124mThe path \u001b[39m\u001b[38;5;124m'\u001b[39m\u001b[38;5;132;01m{\u001b[39;00m\u001b[38;5;28mself\u001b[39m\u001b[38;5;241m.\u001b[39mfile_path\u001b[38;5;132;01m}\u001b[39;00m\u001b[38;5;124m'\u001b[39m\u001b[38;5;124m does not refer to a file.\u001b[39m\u001b[38;5;124m\"\u001b[39m)\n",
      "\u001b[1;31mFileNotFoundError\u001b[0m: The file 'C:/Example/Path/filename.adicht' was not found."
     ]
    }
   ],
   "source": [
    "# Example Usage\n",
    "\n",
    "emg_file_chosen = \"C:/Example/Path/filename.adicht\"\n",
    "adicht_data = AdichtReader(emg_file_chosen)\n",
    "adicht_data.print_metadata()    # Extracts and provides a tabular overview of the channels, samples, records, sampling rates, units, and time step.\n",
    "\n",
    "selected_channel_ids = [1,7,8]\n",
    "record_id = 2\n",
    "resample_channels_dict={        # In this example, Channel1 has a different sampling rate compared to the other channels, so it will be resampled to match their rate\n",
    "    1: 2000,                          \n",
    "}\n",
    "\n",
    "# get the sekeceted data and the sample rate of the leading channel\n",
    "data_emg_df, fs_emg = adicht_data.extract_data(channel_ids= selected_channel_ids,record_id= record_id,resample_channels= resample_channels_dict)\n",
    "\n",
    "# you can also use the resample method only to resample a single channel for specific cases\n",
    "channel1_resampeld_df = adicht_data.resample_channel(channel_id= 1,record_id= 1,target_rate= 2000)     \n",
    "\n",
    "# Select a specific time range from the DataFrame\n",
    "start_time = pd.Timedelta('2 minutes 20 seconds')  # safety margin of 10seconds\n",
    "end_time = pd.Timedelta('2 minutes 30 seconds')\n",
    "selected_data_df = data_emg_df[(data_emg_df.index >= start_time) & (data_emg_df.index <= end_time)]\n",
    "\n",
    "# to pass the data for the EmgDataGroup constructor, the pandas dataframe must be converted into a numpy array and transformed \n",
    "y_emg   = selected_data_df.to_numpy().T\n",
    "\n",
    "# get the labels and units of the selected channels\n",
    "label_list  = adicht_data.get_labels(selected_channel_ids)\n",
    "unit_list   = adicht_data.get_units(selected_channel_ids, record_id)"
   ]
  },
  {
   "cell_type": "code",
   "execution_count": null,
   "metadata": {},
   "outputs": [],
   "source": []
  }
 ],
 "metadata": {
  "kernelspec": {
   "display_name": ".venv_adicht",
   "language": "python",
   "name": "python3"
  },
  "language_info": {
   "codemirror_mode": {
    "name": "ipython",
    "version": 3
   },
   "file_extension": ".py",
   "mimetype": "text/x-python",
   "name": "python",
   "nbconvert_exporter": "python",
   "pygments_lexer": "ipython3",
   "version": "3.10.0"
  }
 },
 "nbformat": 4,
 "nbformat_minor": 2
}
